{
 "cells": [
  {
   "cell_type": "markdown",
   "id": "8eaecad2-4a19-48ad-9d24-43bc09be1393",
   "metadata": {},
   "source": [
    "## Full Board Generater\n",
    "\n",
    "I have programmed the builder in an arry, as this was more intuitive. It is later transformed in a flat format."
   ]
  },
  {
   "cell_type": "code",
   "execution_count": 1,
   "id": "33a06193-491c-4f70-8300-441984650449",
   "metadata": {
    "ExecuteTime": {
     "end_time": "2024-03-07T09:33:21.663642Z",
     "start_time": "2024-03-07T09:33:21.648067Z"
    }
   },
   "outputs": [
    {
     "name": "stdout",
     "output_type": "stream",
     "text": [
      "Board 0:\n",
      "5 8 7 | 4 1 9 | 2 3 6 \n",
      "4 1 9 | 2 3 6 | 5 8 7 \n",
      "2 3 6 | 5 8 7 | 4 1 9 \n",
      "---------------------\n",
      "8 5 4 | 7 9 1 | 3 6 2 \n",
      "7 9 1 | 3 6 2 | 8 5 4 \n",
      "3 6 2 | 8 5 4 | 7 9 1 \n",
      "---------------------\n",
      "1 7 5 | 9 4 8 | 6 2 3 \n",
      "9 4 8 | 6 2 3 | 1 7 5 \n",
      "6 2 3 | 1 7 5 | 9 4 8 \n",
      "Board 1:\n",
      "3 7 9 | 1 8 6 | 2 5 4 \n",
      "1 8 6 | 2 5 4 | 3 7 9 \n",
      "2 5 4 | 3 7 9 | 1 8 6 \n",
      "---------------------\n",
      "7 3 1 | 9 6 8 | 5 4 2 \n",
      "9 6 8 | 5 4 2 | 7 3 1 \n",
      "5 4 2 | 7 3 1 | 9 6 8 \n",
      "---------------------\n",
      "8 9 3 | 6 1 7 | 4 2 5 \n",
      "6 1 7 | 4 2 5 | 8 9 3 \n",
      "4 2 5 | 8 9 3 | 6 1 7 \n"
     ]
    }
   ],
   "source": [
    "import random\n",
    "\n",
    "def generate_full_board(seed=None):\n",
    "    board = [[0] * 9 for _ in range(9)]\n",
    "    fill_board(board, seed)\n",
    "    return flatten_board(board)\n",
    "\n",
    "def fill_board(board, seed=None):\n",
    "    if seed is not None:\n",
    "        random.seed(seed)\n",
    "    for i in range(9):\n",
    "        for j in range(9):\n",
    "            if board[i][j] == 0:\n",
    "                nums = list(range(1, 10))\n",
    "                random.shuffle(nums)  # Shuffle the numbers randomly to get different results\n",
    "                for num in nums:\n",
    "                    if is_valid(board, i, j, num):\n",
    "                        board[i][j] = num\n",
    "                        if fill_board(board, seed):\n",
    "                            return True\n",
    "                        board[i][j] = 0\n",
    "                return False\n",
    "    return True\n",
    "\n",
    "def is_valid(board, row, col, num):\n",
    "    for i in range(9):\n",
    "        if board[row][i] == num or board[i][col] == num or \\\n",
    "           board[3 * (row // 3) + i // 3][3 * (col // 3) + i % 3] == num:\n",
    "            return False\n",
    "    return True\n",
    "\n",
    "def flatten_board(board):\n",
    "    flat_board = []\n",
    "    for row in board:\n",
    "        flat_board.extend(row)\n",
    "    return flat_board\n",
    "\n",
    "def set_random_seed(seed=None):\n",
    "    if seed is None:\n",
    "        seed = random.randint(0, 1000)\n",
    "    random.seed(seed)\n",
    "    return seed\n",
    "\n",
    "def generate_multiple_full_boards(num_boards, seed=None):\n",
    "    set_random_seed(seed)\n",
    "    full_boards = []\n",
    "    for i in range(num_boards):\n",
    "        board_seed = set_random_seed()  # Set a new random seed for each board\n",
    "        full_boards.append(generate_full_board(board_seed))\n",
    "    return full_boards\n",
    "\n",
    "def print_board(board):\n",
    "    for i in range(9):\n",
    "        if i % 3 == 0 and i != 0:\n",
    "            print(\"-\" * 21)\n",
    "        for j in range(9):\n",
    "            if j % 3 == 0 and j != 0:\n",
    "                print(\"|\", end=\" \")\n",
    "            print(board[i * 9 + j], end=\" \")\n",
    "        print()\n",
    "\n",
    "# Example usage:\n",
    "seed=7\n",
    "num_boards = 2\n",
    "full_boards = generate_multiple_full_boards(num_boards, seed)\n",
    "for i, board in enumerate(full_boards):\n",
    "    print(f\"Board {i}:\")\n",
    "    print_board(full_boards[i])\n",
    "   "
   ]
  },
  {
   "cell_type": "markdown",
   "id": "7d493257",
   "metadata": {},
   "source": [
    "## Game_Board_Generator"
   ]
  },
  {
   "cell_type": "code",
   "execution_count": 3,
   "id": "5621660c-4dd3-458d-97fa-f732429bd1fa",
   "metadata": {
    "ExecuteTime": {
     "end_time": "2024-03-07T09:59:38.657359Z",
     "start_time": "2024-03-07T09:59:38.650658Z"
    }
   },
   "outputs": [
    {
     "name": "stdout",
     "output_type": "stream",
     "text": [
      "Sudoku Game:\n",
      ". . . | . . . | . . . \n",
      ". 1 . | . 3 . | . . . \n",
      "2 3 6 | . . . | 4 . 9 \n",
      "---------------------\n",
      "8 5 . | 7 9 . | . . . \n",
      "7 . . | . . . | . 5 . \n",
      ". . . | . 5 . | . . . \n",
      "---------------------\n",
      ". . . | . . . | . 2 . \n",
      "9 . 8 | . . . | 1 . . \n",
      ". . . | . . 5 | . . . \n"
     ]
    }
   ],
   "source": [
    "from copy import deepcopy\n",
    "\n",
    "def create_game_board(full_board, num_cells_empty, seed=None):\n",
    "    if num_cells_empty > 63:\n",
    "        raise ValueError(\"Number of cells left must be at least 17\")\n",
    "\n",
    "    game_board = deepcopy(full_board)\n",
    "    cells = list(range(81))\n",
    "    random.seed(seed)\n",
    "\n",
    "    while num_cells_empty > 0 and cells:\n",
    "        cell_index = random.choice(cells)\n",
    "        cells.remove(cell_index)\n",
    "        row, col = cell_index // 9, cell_index % 9\n",
    "        game_board[row * 9 + col] = '.'\n",
    "\n",
    "        num_cells_empty -= 1\n",
    "    \n",
    "    return game_board\n",
    "\n",
    "# Example usage:\n",
    "full_board = full_boards[0]  # Use one of the full Sudoku boards generated earlier\n",
    "num_cells_empty = 62  # Specify the number of cells to keep filled\n",
    "seed = 123  # Specify the random seed\n",
    "game_board = create_game_board(full_board, num_cells_empty, seed)\n",
    "print(\"Sudoku Game:\")\n",
    "\n",
    "print_board(game_board)"
   ]
  },
  {
   "cell_type": "code",
   "execution_count": null,
   "id": "713fd812-8e0e-481c-8a1a-78005731fdc9",
   "metadata": {},
   "outputs": [],
   "source": [
    "\n"
   ]
  }
 ],
 "metadata": {
  "kernelspec": {
   "display_name": "Python 3 (ipykernel)",
   "language": "python",
   "name": "python3"
  },
  "language_info": {
   "codemirror_mode": {
    "name": "ipython",
    "version": 3
   },
   "file_extension": ".py",
   "mimetype": "text/x-python",
   "name": "python",
   "nbconvert_exporter": "python",
   "pygments_lexer": "ipython3",
   "version": "3.11.7"
  }
 },
 "nbformat": 4,
 "nbformat_minor": 5
}
