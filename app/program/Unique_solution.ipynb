{
 "cells": [
  {
   "cell_type": "code",
   "execution_count": 13,
   "metadata": {},
   "outputs": [],
   "source": [
    "from Solver_experiment_unified import UnifiedSolver\n",
    "import random, copy\n"
   ]
  },
  {
   "cell_type": "code",
   "execution_count": 3,
   "metadata": {},
   "outputs": [
    {
     "name": "stdout",
     "output_type": "stream",
     "text": [
      "False\n",
      "[7, 2, 4, 9, 3, 8, 1, 6, 5]\n",
      "[6, 8, 3, 4, 1, 5, 9, 2, 7]\n",
      "[9, 5, 1, 7, 2, 6, 4, 8, 3]\n",
      "[1, 6, 9, 3, 8, 2, 5, 7, 4]\n",
      "[5, 4, 2, 1, 7, 9, 6, 3, 8]\n",
      "[3, 7, 8, 6, 5, 4, 2, 9, 1]\n",
      "[4, 3, 6, 8, 9, 1, 7, 5, 2]\n",
      "[8, 1, 5, 2, 6, 7, 3, 4, 9]\n",
      "[2, 9, 7, 5, 4, 3, 8, 1, 6]\n"
     ]
    }
   ],
   "source": [
    "# Define an example Sudoku puzzle\n",
    "sudoku_string = \".2....1.5...........1.........3..5...4..7..38..8.5.2...3........1.2.7.4......3.1.\"\n",
    "\n",
    "# Convert string to list format\n",
    "example_sudoku = [[int(cell) if cell != '.' else 0 for cell in sudoku_string[i:i+9]] for i in range(0, 81, 9)]\n",
    "\n",
    "# Initialize the solver with the example Sudoku\n",
    "solver = UnifiedSolver(example_sudoku)\n",
    "print(solver.has_single_solution())\n",
    "# Solve the Sudoku\n",
    "solver.solve()\n",
    "\n",
    "# Print the solved Sudoku\n",
    "for row in solver.board:\n",
    "    print(row)"
   ]
  },
  {
   "cell_type": "code",
   "execution_count": 3,
   "metadata": {},
   "outputs": [
    {
     "name": "stdout",
     "output_type": "stream",
     "text": [
      "[[6, 4, 7, 1, 2, 3, 5, 8, 9], [8, 1, 3, 5, 9, 4, 2, 7, 6], [5, 2, 9, 8, 6, 7, 1, 4, 3], [1, 6, 8, 3, 4, 5, 9, 2, 7], [3, 7, 4, 2, 8, 9, 6, 5, 1], [2, 9, 5, 7, 1, 6, 4, 3, 8], [4, 8, 1, 6, 7, 2, 3, 9, 5], [7, 3, 2, 9, 5, 1, 8, 6, 4], [9, 5, 6, 4, 3, 8, 7, 1, 2]]\n",
      "1.0\n"
     ]
    }
   ],
   "source": [
    "\n",
    "from sudoku_full_board import SudokuGenerator\n",
    "from Solver_experiment_unified import UnifiedSolver\n",
    "import random, copy\n",
    "\n",
    "Generator1 = SudokuGenerator(9)\n",
    "Generator1.generate_full_board()\n",
    "print(Generator1.board)\n",
    "\n",
    "#In a loop generate a random board, remove every instance of 1 and 2 and check if it has a unique solution, repeat 100 times \n",
    "correct = 0\n",
    "for i in range(1000):\n",
    "    Generator1 = SudokuGenerator(9)\n",
    "    Generator1.generate_full_board()\n",
    "    Board_1 = Generator1.board\n",
    "    \n",
    "    #Remove 1 and 2 from the board\n",
    "    for i in range(9):\n",
    "        for j in range(9):\n",
    "            if Board_1[i][j] == 1 or Board_1[i][j] == 2:\n",
    "                Board_1[i][j] = 0\n",
    "    \n",
    "    solver = UnifiedSolver(Board_1)\n",
    "    if not solver.has_single_solution():\n",
    "        correct += 1\n",
    "\n",
    "print(correct/1000)"
   ]
  },
  {
   "cell_type": "code",
   "execution_count": 4,
   "metadata": {},
   "outputs": [
    {
     "name": "stderr",
     "output_type": "stream",
     "text": [
      "C:\\Users\\killi\\AppData\\Local\\Temp\\ipykernel_24332\\1224475321.py:17: SettingWithCopyWarning: \n",
      "A value is trying to be set on a copy of a slice from a DataFrame\n",
      "\n",
      "See the caveats in the documentation: https://pandas.pydata.org/pandas-docs/stable/user_guide/indexing.html#returning-a-view-versus-a-copy\n",
      "  read_file['has_unique_solution'][i] = solver.has_single_solution()\n",
      "C:\\Users\\killi\\AppData\\Local\\Temp\\ipykernel_24332\\1224475321.py:17: FutureWarning: Setting an item of incompatible dtype is deprecated and will raise in a future error of pandas. Value 'True' has dtype incompatible with int64, please explicitly cast to a compatible dtype first.\n",
      "  read_file['has_unique_solution'][i] = solver.has_single_solution()\n"
     ]
    },
    {
     "name": "stdout",
     "output_type": "stream",
     "text": [
      "0       True\n",
      "1       True\n",
      "2      False\n",
      "3      False\n",
      "4       True\n",
      "       ...  \n",
      "295    False\n",
      "296    False\n",
      "297     True\n",
      "298    False\n",
      "299    False\n",
      "Name: has_unique_solution, Length: 300, dtype: object\n"
     ]
    }
   ],
   "source": [
    "import pandas as pd\n",
    "#read the csv file, ignore /n \n",
    "\n",
    "read_file = pd.read_csv('sudoku_results.csv')\n",
    "read_file = read_file.replace('\\n', '', regex=True)\n",
    "read_file = read_file.replace(' ', '', regex=True)\n",
    "\n",
    "#loop over the sudoku_generated column and check if the board has a unique solution\n",
    "\n",
    "#create a new column to store the results\n",
    "read_file['has_unique_solution'] = 0\n",
    "\n",
    "for i in range(len(read_file)):\n",
    "    board = read_file['sudoku_generated'][i]\n",
    "    board = [[int(cell) if cell != '.' else 0 for cell in board[i:i+9]] for i in range(0, 81, 9)]\n",
    "    solver = UnifiedSolver(board)\n",
    "    read_file['has_unique_solution'][i] = solver.has_single_solution()\n",
    "\n",
    "#print the proportion of boards that have a unique solution\n",
    "print(read_file['has_unique_solution'])\n"
   ]
  },
  {
   "cell_type": "code",
   "execution_count": 7,
   "metadata": {},
   "outputs": [
    {
     "data": {
      "text/plain": [
       "<bound method NDFrame.head of                                       sudoku_generated  \\\n",
       "0    .1.365798..9.27.453..9.8..6..74.96828342569712...   \n",
       "1    1.235....695...213...2.9.6435.792.4121.568.378...   \n",
       "2    .32.1...96..89.3.5.5.734.62.73458.9.5..3.9..1....   \n",
       "3    ......8..5.837621.217..946.325.6.9.8..92381..4...   \n",
       "4    1.2345..9.4.1.92.5..5.2..3.2745138.6568.9.4139...   \n",
       "..                                                 ...   \n",
       "295  72.1..6.81...283.5.36........7.94.865...1...39...   \n",
       "296  5841.76..3..5.9.282..36.54714..8...38.3.1.9.47...   \n",
       "297  8...3.5791.47....33.....2.4215.8.9364793568216...   \n",
       "298  ...2..69.6941..2.72.869.4...3..12.6.5..4.6..2....   \n",
       "299  5.712.4..36.45728....68...5...5.1.97.9536812.1...   \n",
       "\n",
       "                                         sudoku_solved difficulty_level  \\\n",
       "0    4123657986891273453759481261574396828342569712...             easy   \n",
       "1    1423567986954872137832195643567928412145689378...             easy   \n",
       "2    4325167896178923458597341621734582965643298712...             easy   \n",
       "3    9631248575483762192175894633254619786792381454...             easy   \n",
       "4    1823456793461792857956281342745138965682974139...             easy   \n",
       "..                                                 ...              ...   \n",
       "295  7251436981496283758367592143172945865628179439...             hard   \n",
       "296  5841276393675491282913685471492857638237169547...             hard   \n",
       "297  8261345791547926833975682142154879364793568216...             hard   \n",
       "298  3512476986941382572786954134378129655194768328...             hard   \n",
       "299  5871234693694572812146897356235418977953681241...             hard   \n",
       "\n",
       "     has_unique_solution  \n",
       "0                      1  \n",
       "1                      1  \n",
       "2                      0  \n",
       "3                      0  \n",
       "4                      1  \n",
       "..                   ...  \n",
       "295                    0  \n",
       "296                    0  \n",
       "297                    1  \n",
       "298                    0  \n",
       "299                    0  \n",
       "\n",
       "[300 rows x 4 columns]>"
      ]
     },
     "execution_count": 7,
     "metadata": {},
     "output_type": "execute_result"
    }
   ],
   "source": [
    "read_file.head"
   ]
  },
  {
   "cell_type": "code",
   "execution_count": 8,
   "metadata": {},
   "outputs": [
    {
     "name": "stdout",
     "output_type": "stream",
     "text": [
      "0.48\n"
     ]
    }
   ],
   "source": [
    "#what proportion of the boards have a unique solution which have the value 'hard' in the difficulty column\n",
    "\n",
    "\n",
    "read_file['has_unique_solution'] = read_file['has_unique_solution'].astype(int)\n",
    "read_file['difficulty'] = read_file['difficulty_level'].astype(str)\n",
    "\n",
    "print(sum(read_file['has_unique_solution'][read_file['difficulty'] == 'hard'])/len(read_file['has_unique_solution'][read_file['difficulty'] == 'hard']))\n"
   ]
  }
 ],
 "metadata": {
  "kernelspec": {
   "display_name": "dsa2",
   "language": "python",
   "name": "python3"
  },
  "language_info": {
   "codemirror_mode": {
    "name": "ipython",
    "version": 3
   },
   "file_extension": ".py",
   "mimetype": "text/x-python",
   "name": "python",
   "nbconvert_exporter": "python",
   "pygments_lexer": "ipython3",
   "version": "3.11.7"
  }
 },
 "nbformat": 4,
 "nbformat_minor": 2
}
