{
 "cells": [
  {
   "cell_type": "code",
   "execution_count": 13,
   "metadata": {},
   "outputs": [],
   "source": [
    "from Solver_experiment_unified import UnifiedSolver\n",
    "import random, copy\n"
   ]
  },
  {
   "cell_type": "code",
   "execution_count": 3,
   "metadata": {},
   "outputs": [
    {
     "name": "stdout",
     "output_type": "stream",
     "text": [
      "False\n",
      "[7, 2, 4, 9, 3, 8, 1, 6, 5]\n",
      "[6, 8, 3, 4, 1, 5, 9, 2, 7]\n",
      "[9, 5, 1, 7, 2, 6, 4, 8, 3]\n",
      "[1, 6, 9, 3, 8, 2, 5, 7, 4]\n",
      "[5, 4, 2, 1, 7, 9, 6, 3, 8]\n",
      "[3, 7, 8, 6, 5, 4, 2, 9, 1]\n",
      "[4, 3, 6, 8, 9, 1, 7, 5, 2]\n",
      "[8, 1, 5, 2, 6, 7, 3, 4, 9]\n",
      "[2, 9, 7, 5, 4, 3, 8, 1, 6]\n"
     ]
    }
   ],
   "source": [
    "# Define an example Sudoku puzzle\n",
    "sudoku_string = \".2....1.5...........1.........3..5...4..7..38..8.5.2...3........1.2.7.4......3.1.\"\n",
    "\n",
    "# Convert string to list format\n",
    "example_sudoku = [[int(cell) if cell != '.' else 0 for cell in sudoku_string[i:i+9]] for i in range(0, 81, 9)]\n",
    "\n",
    "# Initialize the solver with the example Sudoku\n",
    "solver = UnifiedSolver(example_sudoku)\n",
    "print(solver.has_single_solution())\n",
    "# Solve the Sudoku\n",
    "solver.solve()\n",
    "\n",
    "# Print the solved Sudoku\n",
    "for row in solver.board:\n",
    "    print(row)"
   ]
  },
  {
   "cell_type": "code",
   "execution_count": 1,
   "metadata": {},
   "outputs": [
    {
     "name": "stdout",
     "output_type": "stream",
     "text": [
      "[[3, 7, 9, 2, 1, 4, 6, 8, 5], [8, 6, 5, 3, 7, 9, 2, 1, 4], [2, 4, 1, 8, 6, 5, 3, 7, 9], [4, 5, 2, 1, 9, 6, 8, 3, 7], [1, 9, 3, 7, 4, 8, 5, 6, 2], [7, 8, 6, 5, 2, 3, 9, 4, 1], [5, 1, 7, 6, 3, 2, 4, 9, 8], [9, 3, 8, 4, 5, 1, 7, 2, 6], [6, 2, 4, 9, 8, 7, 1, 5, 3]]\n",
      "0.376\n"
     ]
    }
   ],
   "source": [
    "\n",
    "from sudoku_full_board import SudokuGenerator\n",
    "from Solver_experiment_unified import UnifiedSolver\n",
    "import random, copy\n",
    "\n",
    "Generator1 = SudokuGenerator(9)\n",
    "Generator1.generate_full_board()\n",
    "print(Generator1.board)\n",
    "\n",
    "#In a loop generate a random board, remove every instance of 1 and 2 and check if it has a unique solution, repeat 100 times \n",
    "correct = 0\n",
    "for i in range(1000):\n",
    "    Generator1 = SudokuGenerator(9)\n",
    "    Generator1.generate_full_board()\n",
    "    Board_1 = Generator1.board\n",
    "    \n",
    "    #Remove 1 and 2 from the board\n",
    "    for i in range(9):\n",
    "        for j in range(9):\n",
    "            if Board_1[i][j] == 1 or Board_1[i][j] == 2:\n",
    "                Board_1[i][j] = 0\n",
    "    \n",
    "    solver = UnifiedSolver(Board_1)\n",
    "    if not solver.has_single_solution():\n",
    "        correct += 1\n",
    "\n",
    "print(correct/1000)"
   ]
  }
 ],
 "metadata": {
  "kernelspec": {
   "display_name": "dsa2",
   "language": "python",
   "name": "python3"
  },
  "language_info": {
   "codemirror_mode": {
    "name": "ipython",
    "version": 3
   },
   "file_extension": ".py",
   "mimetype": "text/x-python",
   "name": "python",
   "nbconvert_exporter": "python",
   "pygments_lexer": "ipython3",
   "version": "3.11.7"
  }
 },
 "nbformat": 4,
 "nbformat_minor": 2
}
