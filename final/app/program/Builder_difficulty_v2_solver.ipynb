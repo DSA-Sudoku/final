{
 "cells": [
  {
   "cell_type": "markdown",
   "id": "8eaecad2-4a19-48ad-9d24-43bc09be1393",
   "metadata": {},
   "source": [
    "## Full Board Generator\n",
    "\n",
    "I have programmed the builder in an array, as this was more intuitive. It is later transformed in a flat format."
   ]
  },
  {
   "cell_type": "code",
   "execution_count": 466,
   "id": "33a06193-491c-4f70-8300-441984650449",
   "metadata": {
    "ExecuteTime": {
     "end_time": "2024-03-07T10:05:39.800182Z",
     "start_time": "2024-03-07T10:05:39.778009Z"
    }
   },
   "outputs": [
    {
     "name": "stdout",
     "output_type": "stream",
     "text": [
      "Board 0:\n",
      "5 8 7 | 4 1 9 | 2 3 6 \n",
      "4 1 9 | 2 3 6 | 5 8 7 \n",
      "2 3 6 | 5 8 7 | 4 1 9 \n",
      "---------------------\n",
      "8 5 4 | 7 9 1 | 3 6 2 \n",
      "7 9 1 | 3 6 2 | 8 5 4 \n",
      "3 6 2 | 8 5 4 | 7 9 1 \n",
      "---------------------\n",
      "1 7 5 | 9 4 8 | 6 2 3 \n",
      "9 4 8 | 6 2 3 | 1 7 5 \n",
      "6 2 3 | 1 7 5 | 9 4 8 \n",
      "Board 1:\n",
      "3 7 9 | 1 8 6 | 2 5 4 \n",
      "1 8 6 | 2 5 4 | 3 7 9 \n",
      "2 5 4 | 3 7 9 | 1 8 6 \n",
      "---------------------\n",
      "7 3 1 | 9 6 8 | 5 4 2 \n",
      "9 6 8 | 5 4 2 | 7 3 1 \n",
      "5 4 2 | 7 3 1 | 9 6 8 \n",
      "---------------------\n",
      "8 9 3 | 6 1 7 | 4 2 5 \n",
      "6 1 7 | 4 2 5 | 8 9 3 \n",
      "4 2 5 | 8 9 3 | 6 1 7 \n"
     ]
    }
   ],
   "source": [
    "import random\n",
    "import Solver_experiment\n",
    "\n",
    "def generate_full_board(seed=None):\n",
    "    board = [[0] * 9 for _ in range(9)]\n",
    "    fill_board(board, seed)\n",
    "    return flatten_board(board)\n",
    "\n",
    "def fill_board(board, seed=None):\n",
    "    if seed is not None:\n",
    "        random.seed(seed)\n",
    "    for i in range(9):\n",
    "        for j in range(9):\n",
    "            if board[i][j] == 0:\n",
    "                nums = list(range(1, 10))\n",
    "                random.shuffle(nums)  # Shuffle the numbers randomly to get different results\n",
    "                for num in nums:\n",
    "                    if is_valid(board, i, j, num):\n",
    "                        board[i][j] = num\n",
    "                        if fill_board(board, seed):\n",
    "                            return True\n",
    "                        board[i][j] = 0\n",
    "                return False\n",
    "    return True\n",
    "\n",
    "def is_valid(board, row, col, num):\n",
    "    for i in range(9):\n",
    "        if board[row][i] == num or board[i][col] == num or \\\n",
    "           board[3 * (row // 3) + i // 3][3 * (col // 3) + i % 3] == num:\n",
    "            return False\n",
    "    return True\n",
    "\n",
    "def flatten_board(board):\n",
    "    flat_board = []\n",
    "    for row in board:\n",
    "        flat_board.extend(row)\n",
    "    return flat_board\n",
    "\n",
    "def set_random_seed(seed=None):\n",
    "    if seed is None:\n",
    "        seed = random.randint(0, 1000)\n",
    "    random.seed(seed)\n",
    "    return seed\n",
    "\n",
    "def generate_multiple_full_boards(num_boards, seed=None):\n",
    "    set_random_seed(seed)\n",
    "    full_boards = []\n",
    "    for i in range(num_boards):\n",
    "        board_seed = set_random_seed()  # Set a new random seed for each board\n",
    "        full_boards.append(generate_full_board(board_seed))\n",
    "    return full_boards\n",
    "\n",
    "def print_board(board):\n",
    "    n = int(len(board) ** 0.5)  # Assumes the board is a square (e.g., 9x9)\n",
    "    for i in range(n):\n",
    "        if i % 3 == 0 and i != 0:\n",
    "            print(\"-\" * 21)\n",
    "        for j in range(n):\n",
    "            if j % 3 == 0 and j != 0:\n",
    "                print(\"|\", end=\" \")\n",
    "            # Compute the index for the flat list\n",
    "            index = i * n + j\n",
    "            print(board[index], end=\" \")\n",
    "        print()\n",
    "        \n",
    "def convert_to_2d_list(flat_board):\n",
    "    return [flat_board[i*9:(i+1)*9] for i in range(9)]\n",
    "\n",
    "\n",
    "# Example usage:\n",
    "seed=7\n",
    "num_boards = 2\n",
    "full_boards = generate_multiple_full_boards(num_boards, seed)\n",
    "for i, board in enumerate(full_boards):\n",
    "    print(f\"Board {i}:\")\n",
    "    print_board(full_boards[i])\n",
    "   "
   ]
  },
  {
   "cell_type": "markdown",
   "id": "7d493257",
   "metadata": {},
   "source": [
    "## Game_Board_Generator"
   ]
  },
  {
   "cell_type": "code",
   "execution_count": 467,
   "id": "5621660c-4dd3-458d-97fa-f732429bd1fa",
   "metadata": {
    "ExecuteTime": {
     "end_time": "2024-03-07T10:05:57.739286Z",
     "start_time": "2024-03-07T10:05:57.735190Z"
    }
   },
   "outputs": [
    {
     "name": "stdout",
     "output_type": "stream",
     "text": [
      "Sudoku Game:\n",
      ". . . | . . . | . . . \n",
      ". 1 . | . 3 . | . . . \n",
      "2 3 6 | . . . | 4 . 9 \n",
      "---------------------\n",
      "8 5 . | 7 9 . | . . . \n",
      "7 . . | . . . | . 5 . \n",
      ". . . | . 5 . | . . . \n",
      "---------------------\n",
      ". . . | . . . | . 2 . \n",
      "9 . 8 | . . . | 1 . . \n",
      ". . . | . . 5 | . . . \n"
     ]
    }
   ],
   "source": [
    "from copy import deepcopy\n",
    "\n",
    "def create_game_board(full_board, num_cells_empty, seed=None):\n",
    "    if num_cells_empty > 63:\n",
    "        raise ValueError(\"Number of cells left must be at least 17\")\n",
    "\n",
    "    game_board = deepcopy(full_board)\n",
    "    cells = list(range(81))\n",
    "    random.seed(seed)\n",
    "\n",
    "    while num_cells_empty > 0 and cells:\n",
    "        cell_index = random.choice(cells)\n",
    "        cells.remove(cell_index)\n",
    "        row, col = cell_index // 9, cell_index % 9\n",
    "        game_board[row * 9 + col] = '.'\n",
    "\n",
    "        num_cells_empty -= 1\n",
    "    \n",
    "    return game_board\n",
    "\n",
    "# Example usage:\n",
    "full_board = full_boards[0]  # Use one of the full Sudoku boards generated earlier\n",
    "num_cells_empty = 62  # Specify the number of cells to keep filled\n",
    "seed = 123  # Specify the random seed\n",
    "game_board = create_game_board(full_board, num_cells_empty, seed)\n",
    "print(\"Sudoku Game:\")\n",
    "\n",
    "print_board(game_board)"
   ]
  },
  {
   "cell_type": "markdown",
   "id": "d1d16e90-f009-4249-9cac-9fa0b92bd0f6",
   "metadata": {},
   "source": [
    "## Sudoku Game Generator with Difficulty Levels"
   ]
  },
  {
   "cell_type": "markdown",
   "id": "c8277239-3eb7-4ad7-8812-1c52e1ccd5db",
   "metadata": {},
   "source": [
    "The below uses the function 'generate_full_board' above and adds difficulty levels. There are 3 difficulty levels as of now 'easy', 'medium', 'hard'. This difficulty level is currently based on how many clues/numbers are visible at the initial stage. This needs to be updated after some further research."
   ]
  },
  {
   "cell_type": "code",
   "execution_count": 468,
   "id": "dda045a7-7567-42c3-8dc5-6c33a43a7516",
   "metadata": {
    "ExecuteTime": {
     "end_time": "2024-03-07T10:06:09.497715Z",
     "start_time": "2024-03-07T10:06:09.493445Z"
    }
   },
   "outputs": [],
   "source": [
    "import random\n",
    "\n",
    "def generate_sudoku_game(difficulty_level, seed=None):\n",
    "    if difficulty_level == \"easy\":\n",
    "        num_clues = random.randint(36, 40)  # Adjust range as per desired difficulty\n",
    "    elif difficulty_level == \"medium\":\n",
    "        num_clues = random.randint(32, 35)\n",
    "    elif difficulty_level == \"hard\":\n",
    "        num_clues = random.randint(28, 31)\n",
    "    else:\n",
    "        raise ValueError(\"Invalid difficulty level\")\n",
    "\n",
    "    full_board = generate_full_board(seed)\n",
    "    game_board = full_board.copy()\n",
    "\n",
    "    # Randomly remove cells to create the game board\n",
    "    cells_to_remove = 81 - num_clues\n",
    "    for _ in range(cells_to_remove):\n",
    "        row = random.randint(0, 8)\n",
    "        col = random.randint(0, 8)\n",
    "        while game_board[row * 9 + col] == 0:\n",
    "            row = random.randint(0, 8)\n",
    "            col = random.randint(0, 8)\n",
    "        game_board[row * 9 + col] = 0\n",
    "\n",
    "    return game_board\n"
   ]
  },
  {
   "cell_type": "code",
   "execution_count": 469,
   "id": "9eefbc18-acf6-4cc5-a958-25a351d69a7b",
   "metadata": {},
   "outputs": [
    {
     "name": "stdout",
     "output_type": "stream",
     "text": [
      "Generated Sudoku Game:\n",
      "8 0 0 | 7 0 4 | 0 5 0 \n",
      "0 3 0 | 9 5 1 | 0 2 0 \n",
      "0 0 1 | 8 2 0 | 7 3 0 \n",
      "---------------------\n",
      "2 0 0 | 6 4 3 | 5 1 0 \n",
      "6 0 3 | 5 1 0 | 0 0 7 \n",
      "0 0 9 | 0 0 0 | 6 0 0 \n",
      "---------------------\n",
      "3 0 8 | 4 7 0 | 0 9 0 \n",
      "0 7 0 | 0 0 5 | 0 6 0 \n",
      "0 9 5 | 3 6 0 | 4 0 0 \n"
     ]
    }
   ],
   "source": [
    "# Example usage:\n",
    "game_board_easy = generate_sudoku_game(\"easy\", seed=123)\n",
    "print(\"Generated Sudoku Game:\")\n",
    "print_board(game_board_easy)\n"
   ]
  },
  {
   "cell_type": "code",
   "execution_count": 470,
   "id": "98de3f3a-cc1d-4c93-843a-18844fd2a652",
   "metadata": {},
   "outputs": [
    {
     "name": "stdout",
     "output_type": "stream",
     "text": [
      "Generated Sudoku Game:\n",
      "8 0 0 | 7 0 0 | 0 5 0 \n",
      "0 3 0 | 9 5 1 | 0 2 0 \n",
      "0 0 1 | 8 2 0 | 0 3 0 \n",
      "---------------------\n",
      "2 0 0 | 6 4 3 | 5 1 0 \n",
      "6 0 3 | 5 1 0 | 0 0 7 \n",
      "0 0 9 | 0 0 0 | 0 0 0 \n",
      "---------------------\n",
      "3 0 8 | 4 7 0 | 0 9 0 \n",
      "0 7 0 | 0 0 5 | 0 6 0 \n",
      "0 9 5 | 3 0 0 | 0 0 0 \n"
     ]
    }
   ],
   "source": [
    "# Example usage:\n",
    "game_board = generate_sudoku_game(\"medium\", seed=123)\n",
    "print(\"Generated Sudoku Game:\")\n",
    "print_board(game_board)"
   ]
  },
  {
   "cell_type": "code",
   "execution_count": 471,
   "id": "583f2f90-7ba9-48a9-b1ef-fd481365bcae",
   "metadata": {},
   "outputs": [
    {
     "name": "stdout",
     "output_type": "stream",
     "text": [
      "Generated Sudoku Game:\n",
      "8 0 0 | 7 0 0 | 0 5 0 \n",
      "0 3 0 | 9 0 1 | 0 2 0 \n",
      "0 0 1 | 8 0 0 | 0 3 0 \n",
      "---------------------\n",
      "2 0 0 | 6 4 0 | 5 1 0 \n",
      "6 0 3 | 5 1 0 | 0 0 7 \n",
      "0 0 9 | 0 0 0 | 0 0 0 \n",
      "---------------------\n",
      "0 0 8 | 4 7 0 | 0 9 0 \n",
      "0 7 0 | 0 0 5 | 0 6 0 \n",
      "0 0 5 | 0 0 0 | 0 0 0 \n"
     ]
    }
   ],
   "source": [
    "# Example usage:\n",
    "game_board = generate_sudoku_game(\"hard\", seed=123)\n",
    "print(\"Generated Sudoku Game:\")\n",
    "print_board(game_board)"
   ]
  },
  {
   "cell_type": "markdown",
   "id": "77d99384",
   "metadata": {},
   "source": [
    "Use the solver  "
   ]
  },
  {
   "cell_type": "code",
   "execution_count": 472,
   "id": "211128a8-00ad-4e1a-9288-5f942c3d869a",
   "metadata": {},
   "outputs": [],
   "source": [
    "import time \n",
    "import importlib\n"
   ]
  },
  {
   "cell_type": "code",
   "execution_count": 473,
   "id": "296d586f",
   "metadata": {},
   "outputs": [
    {
     "name": "stdout",
     "output_type": "stream",
     "text": [
      "{'A1': '5', 'A2': '3', 'A3': '.', 'A4': '.', 'A5': '7', 'A6': '.', 'A7': '.', 'A8': '.', 'A9': '.', 'B1': '6', 'B2': '.', 'B3': '.', 'B4': '1', 'B5': '9', 'B6': '5', 'B7': '.', 'B8': '.', 'B9': '.', 'C1': '.', 'C2': '9', 'C3': '8', 'C4': '.', 'C5': '.', 'C6': '.', 'C7': '.', 'C8': '6', 'C9': '.', 'D1': '8', 'D2': '.', 'D3': '.', 'D4': '.', 'D5': '6', 'D6': '.', 'D7': '.', 'D8': '.', 'D9': '3', 'E1': '4', 'E2': '.', 'E3': '.', 'E4': '8', 'E5': '.', 'E6': '3', 'E7': '.', 'E8': '.', 'E9': '1', 'F1': '7', 'F2': '.', 'F3': '.', 'F4': '.', 'F5': '2', 'F6': '.', 'F7': '.', 'F8': '.', 'F9': '6', 'G1': '.', 'G2': '6', 'G3': '.', 'G4': '.', 'G5': '.', 'G6': '.', 'G7': '2', 'G8': '8', 'G9': '.', 'H1': '.', 'H2': '.', 'H3': '.', 'H4': '4', 'H5': '1', 'H6': '9', 'H7': '.', 'H8': '.', 'H9': '5', 'I1': '.', 'I2': '.', 'I3': '.', 'I4': '.', 'I5': '8', 'I6': '.', 'I7': '.', 'I8': '7', 'I9': '9'}\n",
      "5 3 . | . 7 . | . . . \n",
      "6 . . | 1 9 5 | . . . \n",
      ". 9 8 | . . . | . 6 . \n",
      "---------------------\n",
      "8 . . | . 6 . | . . 3 \n",
      "4 . . | 8 . 3 | . . 1 \n",
      "7 . . | . 2 . | . . 6 \n",
      "---------------------\n",
      ". 6 . | . . . | 2 8 . \n",
      ". . . | 4 1 9 | . . 5 \n",
      ". . . | . 8 . | . 7 9 \n"
     ]
    },
    {
     "data": {
      "text/plain": [
       "<module 'Solver_experiment_unified' from 'c:\\\\Users\\\\luisf\\\\Desktop\\\\Semestre_4\\\\Data_structures\\\\project\\\\Data_structures\\\\Sudoku\\\\Sudoku\\\\flaskapp_sudoku\\\\flaskapp_sudoku\\\\app\\\\program\\\\Solver_experiment_unified.py'>"
      ]
     },
     "execution_count": 473,
     "metadata": {},
     "output_type": "execute_result"
    }
   ],
   "source": [
    "import Solver_experiment_unified\n",
    "importlib.reload(Solver_experiment_unified)\n"
   ]
  },
  {
   "cell_type": "code",
   "execution_count": 474,
   "id": "a5bd1311",
   "metadata": {},
   "outputs": [],
   "source": [
    "from Solver_experiment_unified import UnifiedSolver"
   ]
  },
  {
   "cell_type": "code",
   "execution_count": 475,
   "id": "1574c0ae",
   "metadata": {},
   "outputs": [
    {
     "name": "stdout",
     "output_type": "stream",
     "text": [
      "Generated Sudoku Game:\n",
      "0 3 7 | 0 0 0 | 5 0 0 \n",
      "2 0 6 | 5 1 4 | 9 0 7 \n",
      "0 0 4 | 0 3 0 | 2 0 0 \n",
      "---------------------\n",
      "0 0 0 | 7 0 0 | 1 0 5 \n",
      "7 0 0 | 1 4 5 | 3 0 0 \n",
      "1 0 5 | 0 0 2 | 0 0 8 \n",
      "---------------------\n",
      "0 7 9 | 0 0 0 | 0 5 0 \n",
      "6 0 0 | 4 0 0 | 0 0 9 \n",
      "0 5 1 | 8 0 9 | 6 2 0 \n"
     ]
    }
   ],
   "source": [
    "game_board_easy = generate_sudoku_game(\"easy\", seed=15)\n",
    "print(\"Generated Sudoku Game:\")\n",
    "print_board(game_board_easy)"
   ]
  },
  {
   "cell_type": "code",
   "execution_count": 477,
   "id": "1411e7d7",
   "metadata": {},
   "outputs": [
    {
     "name": "stdout",
     "output_type": "stream",
     "text": [
      "<class 'list'>\n",
      "<class 'list'>\n"
     ]
    }
   ],
   "source": [
    "game_board_easy_2d = convert_to_2d_list(game_board_easy)\n",
    "solver_easy = UnifiedSolver(game_board_easy_2d)\n",
    "print(type(game_board_easy_2d))  # Should show <class 'list'>\n",
    "print(type(game_board_easy_2d[0]))"
   ]
  },
  {
   "cell_type": "code",
   "execution_count": 478,
   "id": "dbdf1193",
   "metadata": {},
   "outputs": [
    {
     "name": "stdout",
     "output_type": "stream",
     "text": [
      "9\n"
     ]
    }
   ],
   "source": [
    "print(len(solver.board))"
   ]
  },
  {
   "cell_type": "markdown",
   "id": "72e95c79",
   "metadata": {},
   "source": [
    "Tryout and solved"
   ]
  },
  {
   "cell_type": "markdown",
   "id": "ddce2acf",
   "metadata": {},
   "source": [
    "Partially solved\n",
    "Note: the index error appears to be part of the board generator code line 60. "
   ]
  },
  {
   "cell_type": "code",
   "execution_count": 482,
   "id": "3d16be50",
   "metadata": {},
   "outputs": [
    {
     "name": "stdout",
     "output_type": "stream",
     "text": [
      "Sudoku Solved!\n",
      "Solved Sudoku Game:\n",
      "[7, 9, 1, 3, 4, 8, 5, 6, 2] [3, 6, 8, 2, 5, 1, 9, 4, 7] [5, 2, 4, 9, 6, 7, 3, 1, 8] \n",
      "[6, 8, 3, 7, 2, 4, 1, 9, 5] [9, 4, 7, 8, 1, 5, 6, 2, 3] [2, 1, 5, 6, 9, 3, 7, 8, 4] \n",
      "[4, 3, 9, 5, 8, 6, 2, 7, 1] [8, 7, 6, 1, 3, 2, 4, 5, 9] [1, 5, 2, 4, 7, 9, 8, 3, 6] \n"
     ]
    }
   ],
   "source": [
    "if solver_easy.basic_solve():\n",
    "    print(\"Sudoku Solved!\")\n",
    "    print(\"Solved Sudoku Game:\")\n",
    "    print_board(solver.board)\n",
    "else:\n",
    "    print(\"No solution exists for this Sudoku.\")\n"
   ]
  },
  {
   "cell_type": "markdown",
   "id": "ab10acda",
   "metadata": {},
   "source": [
    "## Test advanced solver "
   ]
  },
  {
   "cell_type": "code",
   "execution_count": 483,
   "id": "1a3d2d7d",
   "metadata": {},
   "outputs": [],
   "source": [
    "import time \n",
    "import importlib"
   ]
  },
  {
   "cell_type": "code",
   "execution_count": 484,
   "id": "5fea2b82",
   "metadata": {},
   "outputs": [
    {
     "name": "stdout",
     "output_type": "stream",
     "text": [
      "{'A1': '5', 'A2': '3', 'A3': '.', 'A4': '.', 'A5': '7', 'A6': '.', 'A7': '.', 'A8': '.', 'A9': '.', 'B1': '6', 'B2': '.', 'B3': '.', 'B4': '1', 'B5': '9', 'B6': '5', 'B7': '.', 'B8': '.', 'B9': '.', 'C1': '.', 'C2': '9', 'C3': '8', 'C4': '.', 'C5': '.', 'C6': '.', 'C7': '.', 'C8': '6', 'C9': '.', 'D1': '8', 'D2': '.', 'D3': '.', 'D4': '.', 'D5': '6', 'D6': '.', 'D7': '.', 'D8': '.', 'D9': '3', 'E1': '4', 'E2': '.', 'E3': '.', 'E4': '8', 'E5': '.', 'E6': '3', 'E7': '.', 'E8': '.', 'E9': '1', 'F1': '7', 'F2': '.', 'F3': '.', 'F4': '.', 'F5': '2', 'F6': '.', 'F7': '.', 'F8': '.', 'F9': '6', 'G1': '.', 'G2': '6', 'G3': '.', 'G4': '.', 'G5': '.', 'G6': '.', 'G7': '2', 'G8': '8', 'G9': '.', 'H1': '.', 'H2': '.', 'H3': '.', 'H4': '4', 'H5': '1', 'H6': '9', 'H7': '.', 'H8': '.', 'H9': '5', 'I1': '.', 'I2': '.', 'I3': '.', 'I4': '.', 'I5': '8', 'I6': '.', 'I7': '.', 'I8': '7', 'I9': '9'}\n",
      "5 3 . | . 7 . | . . . \n",
      "6 . . | 1 9 5 | . . . \n",
      ". 9 8 | . . . | . 6 . \n",
      "---------------------\n",
      "8 . . | . 6 . | . . 3 \n",
      "4 . . | 8 . 3 | . . 1 \n",
      "7 . . | . 2 . | . . 6 \n",
      "---------------------\n",
      ". 6 . | . . . | 2 8 . \n",
      ". . . | 4 1 9 | . . 5 \n",
      ". . . | . 8 . | . 7 9 \n"
     ]
    }
   ],
   "source": [
    "import Solver_experiment_unified\n",
    "importlib.reload(Solver_experiment_unified)\n",
    "from Solver_experiment_unified import UnifiedSolver\n"
   ]
  },
  {
   "cell_type": "code",
   "execution_count": 485,
   "id": "62ccdbd3",
   "metadata": {},
   "outputs": [
    {
     "name": "stdout",
     "output_type": "stream",
     "text": [
      "Generated Sudoku Game:\n",
      "0 0 0 | 0 0 0 | 0 0 1 \n",
      "0 9 0 | 0 0 1 | 5 0 3 \n",
      "0 4 0 | 0 8 3 | 2 0 0 \n",
      "---------------------\n",
      "0 0 0 | 3 0 9 | 4 0 0 \n",
      "0 0 9 | 0 1 0 | 0 0 2 \n",
      "0 0 6 | 8 0 2 | 3 7 9 \n",
      "---------------------\n",
      "9 0 5 | 0 2 8 | 1 0 4 \n",
      "0 0 0 | 0 0 0 | 0 0 0 \n",
      "0 0 4 | 0 3 0 | 7 2 0 \n"
     ]
    }
   ],
   "source": [
    "game_board_hard = generate_sudoku_game(\"hard\", seed=200)\n",
    "print(\"Generated Sudoku Game:\")\n",
    "print_board(game_board_hard)\n"
   ]
  },
  {
   "cell_type": "code",
   "execution_count": 486,
   "id": "525d2640",
   "metadata": {},
   "outputs": [
    {
     "name": "stdout",
     "output_type": "stream",
     "text": [
      "<class 'list'>\n",
      "<class 'list'>\n",
      "[[0, 0, 0, 0, 0, 0, 0, 0, 1], [0, 9, 0, 0, 0, 1, 5, 0, 3], [0, 4, 0, 0, 8, 3, 2, 0, 0], [0, 0, 0, 3, 0, 9, 4, 0, 0], [0, 0, 9, 0, 1, 0, 0, 0, 2], [0, 0, 6, 8, 0, 2, 3, 7, 9], [9, 0, 5, 0, 2, 8, 1, 0, 4], [0, 0, 0, 0, 0, 0, 0, 0, 0], [0, 0, 4, 0, 3, 0, 7, 2, 0]]\n"
     ]
    }
   ],
   "source": [
    "game_board_hard_2d = convert_to_2d_list(game_board_hard)\n",
    "solver_hard = UnifiedSolver(game_board_hard_2d, difficulty='hard')\n",
    "\n",
    "print(type(game_board_hard_2d))  # Should show <class 'list'>\n",
    "print(type(game_board_hard_2d[0]))\n",
    "print(game_board_hard_2d)\n"
   ]
  },
  {
   "cell_type": "code",
   "execution_count": 487,
   "id": "b102229d",
   "metadata": {},
   "outputs": [
    {
     "ename": "ValueError",
     "evalue": "Expected integer for num, got <class 'set'> with value {2}",
     "output_type": "error",
     "traceback": [
      "\u001b[1;31m---------------------------------------------------------------------------\u001b[0m",
      "\u001b[1;31mValueError\u001b[0m                                Traceback (most recent call last)",
      "Cell \u001b[1;32mIn[487], line 1\u001b[0m\n\u001b[1;32m----> 1\u001b[0m \u001b[38;5;28;01mif\u001b[39;00m \u001b[43msolver_hard\u001b[49m\u001b[38;5;241;43m.\u001b[39;49m\u001b[43msolve\u001b[49m\u001b[43m(\u001b[49m\u001b[43m)\u001b[49m:\n\u001b[0;32m      2\u001b[0m     \u001b[38;5;28mprint\u001b[39m(\u001b[38;5;124m\"\u001b[39m\u001b[38;5;124mSudoku Solved!\u001b[39m\u001b[38;5;124m\"\u001b[39m)\n\u001b[0;32m      3\u001b[0m     \u001b[38;5;28mprint\u001b[39m(\u001b[38;5;124m\"\u001b[39m\u001b[38;5;124mSolved Sudoku Game:\u001b[39m\u001b[38;5;124m\"\u001b[39m)\n",
      "File \u001b[1;32mc:\\Users\\luisf\\Desktop\\Semestre_4\\Data_structures\\project\\Data_structures\\Sudoku\\Sudoku\\flaskapp_sudoku\\flaskapp_sudoku\\app\\program\\Solver_experiment_unified.py:63\u001b[0m, in \u001b[0;36mUnifiedSolver.solve\u001b[1;34m(self)\u001b[0m\n\u001b[0;32m     61\u001b[0m     \u001b[38;5;28;01mreturn\u001b[39;00m \u001b[38;5;28mself\u001b[39m\u001b[38;5;241m.\u001b[39mbasic_solve()\n\u001b[0;32m     62\u001b[0m \u001b[38;5;28;01melse\u001b[39;00m:\n\u001b[1;32m---> 63\u001b[0m     \u001b[38;5;28;01mreturn\u001b[39;00m \u001b[38;5;28;43mself\u001b[39;49m\u001b[38;5;241;43m.\u001b[39;49m\u001b[43madvanced_solve\u001b[49m\u001b[43m(\u001b[49m\u001b[43m)\u001b[49m\n",
      "File \u001b[1;32mc:\\Users\\luisf\\Desktop\\Semestre_4\\Data_structures\\project\\Data_structures\\Sudoku\\Sudoku\\flaskapp_sudoku\\flaskapp_sudoku\\app\\program\\Solver_experiment_unified.py:91\u001b[0m, in \u001b[0;36mUnifiedSolver.advanced_solve\u001b[1;34m(self)\u001b[0m\n\u001b[0;32m     88\u001b[0m original_possible_values \u001b[38;5;241m=\u001b[39m \u001b[38;5;28mset\u001b[39m(\u001b[38;5;28mself\u001b[39m\u001b[38;5;241m.\u001b[39mpossible_values[row][col])\n\u001b[0;32m     89\u001b[0m \u001b[38;5;28mself\u001b[39m\u001b[38;5;241m.\u001b[39mupdate_possible_values(row, col, num, \u001b[38;5;28;01mTrue\u001b[39;00m)\n\u001b[1;32m---> 91\u001b[0m \u001b[38;5;28;01mif\u001b[39;00m \u001b[38;5;28;43mself\u001b[39;49m\u001b[38;5;241;43m.\u001b[39;49m\u001b[43madvanced_solve\u001b[49m\u001b[43m(\u001b[49m\u001b[43m)\u001b[49m:\n\u001b[0;32m     92\u001b[0m     \u001b[38;5;28;01mreturn\u001b[39;00m \u001b[38;5;28;01mTrue\u001b[39;00m\n\u001b[0;32m     93\u001b[0m \u001b[38;5;28mself\u001b[39m\u001b[38;5;241m.\u001b[39mboard[row][col] \u001b[38;5;241m=\u001b[39m \u001b[38;5;241m0\u001b[39m\n",
      "File \u001b[1;32mc:\\Users\\luisf\\Desktop\\Semestre_4\\Data_structures\\project\\Data_structures\\Sudoku\\Sudoku\\flaskapp_sudoku\\flaskapp_sudoku\\app\\program\\Solver_experiment_unified.py:91\u001b[0m, in \u001b[0;36mUnifiedSolver.advanced_solve\u001b[1;34m(self)\u001b[0m\n\u001b[0;32m     88\u001b[0m original_possible_values \u001b[38;5;241m=\u001b[39m \u001b[38;5;28mset\u001b[39m(\u001b[38;5;28mself\u001b[39m\u001b[38;5;241m.\u001b[39mpossible_values[row][col])\n\u001b[0;32m     89\u001b[0m \u001b[38;5;28mself\u001b[39m\u001b[38;5;241m.\u001b[39mupdate_possible_values(row, col, num, \u001b[38;5;28;01mTrue\u001b[39;00m)\n\u001b[1;32m---> 91\u001b[0m \u001b[38;5;28;01mif\u001b[39;00m \u001b[38;5;28;43mself\u001b[39;49m\u001b[38;5;241;43m.\u001b[39;49m\u001b[43madvanced_solve\u001b[49m\u001b[43m(\u001b[49m\u001b[43m)\u001b[49m:\n\u001b[0;32m     92\u001b[0m     \u001b[38;5;28;01mreturn\u001b[39;00m \u001b[38;5;28;01mTrue\u001b[39;00m\n\u001b[0;32m     93\u001b[0m \u001b[38;5;28mself\u001b[39m\u001b[38;5;241m.\u001b[39mboard[row][col] \u001b[38;5;241m=\u001b[39m \u001b[38;5;241m0\u001b[39m\n",
      "    \u001b[1;31m[... skipping similar frames: UnifiedSolver.advanced_solve at line 91 (17 times)]\u001b[0m\n",
      "File \u001b[1;32mc:\\Users\\luisf\\Desktop\\Semestre_4\\Data_structures\\project\\Data_structures\\Sudoku\\Sudoku\\flaskapp_sudoku\\flaskapp_sudoku\\app\\program\\Solver_experiment_unified.py:91\u001b[0m, in \u001b[0;36mUnifiedSolver.advanced_solve\u001b[1;34m(self)\u001b[0m\n\u001b[0;32m     88\u001b[0m original_possible_values \u001b[38;5;241m=\u001b[39m \u001b[38;5;28mset\u001b[39m(\u001b[38;5;28mself\u001b[39m\u001b[38;5;241m.\u001b[39mpossible_values[row][col])\n\u001b[0;32m     89\u001b[0m \u001b[38;5;28mself\u001b[39m\u001b[38;5;241m.\u001b[39mupdate_possible_values(row, col, num, \u001b[38;5;28;01mTrue\u001b[39;00m)\n\u001b[1;32m---> 91\u001b[0m \u001b[38;5;28;01mif\u001b[39;00m \u001b[38;5;28;43mself\u001b[39;49m\u001b[38;5;241;43m.\u001b[39;49m\u001b[43madvanced_solve\u001b[49m\u001b[43m(\u001b[49m\u001b[43m)\u001b[49m:\n\u001b[0;32m     92\u001b[0m     \u001b[38;5;28;01mreturn\u001b[39;00m \u001b[38;5;28;01mTrue\u001b[39;00m\n\u001b[0;32m     93\u001b[0m \u001b[38;5;28mself\u001b[39m\u001b[38;5;241m.\u001b[39mboard[row][col] \u001b[38;5;241m=\u001b[39m \u001b[38;5;241m0\u001b[39m\n",
      "File \u001b[1;32mc:\\Users\\luisf\\Desktop\\Semestre_4\\Data_structures\\project\\Data_structures\\Sudoku\\Sudoku\\flaskapp_sudoku\\flaskapp_sudoku\\app\\program\\Solver_experiment_unified.py:95\u001b[0m, in \u001b[0;36mUnifiedSolver.advanced_solve\u001b[1;34m(self)\u001b[0m\n\u001b[0;32m     93\u001b[0m         \u001b[38;5;28mself\u001b[39m\u001b[38;5;241m.\u001b[39mboard[row][col] \u001b[38;5;241m=\u001b[39m \u001b[38;5;241m0\u001b[39m\n\u001b[0;32m     94\u001b[0m         \u001b[38;5;28mself\u001b[39m\u001b[38;5;241m.\u001b[39mpossible_values[row][col] \u001b[38;5;241m=\u001b[39m original_possible_values\n\u001b[1;32m---> 95\u001b[0m         \u001b[38;5;28;43mself\u001b[39;49m\u001b[38;5;241;43m.\u001b[39;49m\u001b[43mupdate_possible_values\u001b[49m\u001b[43m(\u001b[49m\u001b[43mrow\u001b[49m\u001b[43m,\u001b[49m\u001b[43m \u001b[49m\u001b[43mcol\u001b[49m\u001b[43m,\u001b[49m\u001b[43m \u001b[49m\u001b[43moriginal_possible_values\u001b[49m\u001b[43m,\u001b[49m\u001b[43m \u001b[49m\u001b[38;5;28;43;01mFalse\u001b[39;49;00m\u001b[43m)\u001b[49m\n\u001b[0;32m     96\u001b[0m \u001b[38;5;28;01mreturn\u001b[39;00m \u001b[38;5;28;01mFalse\u001b[39;00m\n",
      "File \u001b[1;32mc:\\Users\\luisf\\Desktop\\Semestre_4\\Data_structures\\project\\Data_structures\\Sudoku\\Sudoku\\flaskapp_sudoku\\flaskapp_sudoku\\app\\program\\Solver_experiment_unified.py:141\u001b[0m, in \u001b[0;36mUnifiedSolver.update_possible_values\u001b[1;34m(self, row, col, num, is_placing)\u001b[0m\n\u001b[0;32m    139\u001b[0m affected_cells \u001b[38;5;241m=\u001b[39m \u001b[38;5;28mself\u001b[39m\u001b[38;5;241m.\u001b[39mget_affected_cells(row, col)\n\u001b[0;32m    140\u001b[0m \u001b[38;5;28;01mif\u001b[39;00m \u001b[38;5;129;01mnot\u001b[39;00m \u001b[38;5;28misinstance\u001b[39m(num, \u001b[38;5;28mint\u001b[39m):\n\u001b[1;32m--> 141\u001b[0m     \u001b[38;5;28;01mraise\u001b[39;00m \u001b[38;5;167;01mValueError\u001b[39;00m(\u001b[38;5;124mf\u001b[39m\u001b[38;5;124m\"\u001b[39m\u001b[38;5;124mExpected integer for num, got \u001b[39m\u001b[38;5;132;01m{\u001b[39;00m\u001b[38;5;28mtype\u001b[39m(num)\u001b[38;5;132;01m}\u001b[39;00m\u001b[38;5;124m with value \u001b[39m\u001b[38;5;132;01m{\u001b[39;00mnum\u001b[38;5;132;01m}\u001b[39;00m\u001b[38;5;124m\"\u001b[39m)\n\u001b[0;32m    143\u001b[0m \u001b[38;5;28;01mif\u001b[39;00m is_placing:\n\u001b[0;32m    144\u001b[0m     \u001b[38;5;28mself\u001b[39m\u001b[38;5;241m.\u001b[39mpossible_values[row][col] \u001b[38;5;241m=\u001b[39m {num}\n",
      "\u001b[1;31mValueError\u001b[0m: Expected integer for num, got <class 'set'> with value {2}"
     ]
    }
   ],
   "source": [
    "if solver_hard.solve():\n",
    "    print(\"Sudoku Solved!\")\n",
    "    print(\"Solved Sudoku Game:\")\n",
    "    solved_flat_board = [cell for row in solver_hard.board for cell in row]\n",
    "    print_board(solved_flat_board)\n",
    "else:\n",
    "    print(\"No solution exists for this Sudoku.\")"
   ]
  }
 ],
 "metadata": {
  "kernelspec": {
   "display_name": "Python 3 (ipykernel)",
   "language": "python",
   "name": "python3"
  },
  "language_info": {
   "codemirror_mode": {
    "name": "ipython",
    "version": 3
   },
   "file_extension": ".py",
   "mimetype": "text/x-python",
   "name": "python",
   "nbconvert_exporter": "python",
   "pygments_lexer": "ipython3",
   "version": "3.11.7"
  }
 },
 "nbformat": 4,
 "nbformat_minor": 5
}
